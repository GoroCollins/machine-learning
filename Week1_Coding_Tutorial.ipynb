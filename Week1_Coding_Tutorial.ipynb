{
  "cells": [
    {
      "cell_type": "markdown",
      "metadata": {
        "id": "view-in-github",
        "colab_type": "text"
      },
      "source": [
        "<a href=\"https://colab.research.google.com/github/GoroCollins/machine-learning/blob/main/Week1_Coding_Tutorial.ipynb\" target=\"_parent\"><img src=\"https://colab.research.google.com/assets/colab-badge.svg\" alt=\"Open In Colab\"/></a>"
      ]
    },
    {
      "cell_type": "code",
      "execution_count": 1,
      "metadata": {
        "id": "XaMi4So419Tv",
        "outputId": "f146585c-f2f4-4f56-d034-a560376e64bf",
        "colab": {
          "base_uri": "https://localhost:8080/"
        }
      },
      "outputs": [
        {
          "output_type": "stream",
          "name": "stdout",
          "text": [
            "2.9.2\n"
          ]
        }
      ],
      "source": [
        "import tensorflow as tf\n",
        "print(tf.__version__)"
      ]
    },
    {
      "cell_type": "markdown",
      "metadata": {
        "id": "UoEEL71v19Tx"
      },
      "source": [
        "# The Sequential model API"
      ]
    },
    {
      "cell_type": "markdown",
      "metadata": {
        "id": "tFYNpFQ-19Ty"
      },
      "source": [
        " ## Coding tutorials\n",
        " #### [1. Building a Sequential model](#coding_tutorial_1)\n",
        " #### [2. Convolutional and pooling layers](#coding_tutorial_2)\n",
        " #### [3. The compile method](#coding_tutorial_3)\n",
        " #### [4. The fit method](#coding_tutorial_4)\n",
        " #### [5. The evaluate and predict methods](#coding_tutorial_5)"
      ]
    },
    {
      "cell_type": "markdown",
      "metadata": {
        "id": "SbyEZfcc19Ty"
      },
      "source": [
        "***\n",
        "<a id=\"coding_tutorial_1\"></a>\n",
        "## Building a Sequential model"
      ]
    },
    {
      "cell_type": "code",
      "execution_count": 2,
      "metadata": {
        "id": "gk4roZsu19Ty"
      },
      "outputs": [],
      "source": [
        "from tensorflow.keras.models import Sequential\n",
        "from tensorflow.keras.layers import Dense, Flatten, Softmax"
      ]
    },
    {
      "cell_type": "markdown",
      "metadata": {
        "id": "75RAzF-G19Ty"
      },
      "source": [
        "#### Build a feedforward neural network model"
      ]
    },
    {
      "cell_type": "code",
      "execution_count": 3,
      "metadata": {
        "id": "hTOtg7B-19Tz"
      },
      "outputs": [],
      "source": [
        "# Build the Sequential feedforward neural network model\n",
        "model = Sequential([\n",
        "    tf.keras.layers.Dense(units=16, input_shape=[1]),\n",
        "    tf.keras.layers.Dense(1, activation=tf.nn.softmax)\n",
        "])\n"
      ]
    },
    {
      "cell_type": "code",
      "execution_count": 4,
      "metadata": {
        "id": "PpYRRNXq19Tz",
        "outputId": "a7dc0db2-c0e8-44c5-d4c1-0d7fef228910",
        "colab": {
          "base_uri": "https://localhost:8080/"
        }
      },
      "outputs": [
        {
          "output_type": "stream",
          "name": "stdout",
          "text": [
            "Model: \"sequential\"\n",
            "_________________________________________________________________\n",
            " Layer (type)                Output Shape              Param #   \n",
            "=================================================================\n",
            " dense (Dense)               (None, 16)                32        \n",
            "                                                                 \n",
            " dense_1 (Dense)             (None, 1)                 17        \n",
            "                                                                 \n",
            "=================================================================\n",
            "Total params: 49\n",
            "Trainable params: 49\n",
            "Non-trainable params: 0\n",
            "_________________________________________________________________\n"
          ]
        }
      ],
      "source": [
        "# Print the model summary\n",
        "model.summary()\n"
      ]
    },
    {
      "cell_type": "markdown",
      "metadata": {
        "id": "UuOmcKxh19Tz"
      },
      "source": [
        "***\n",
        "<a id=\"coding_tutorial_2\"></a>\n",
        "## Convolutional and pooling layers"
      ]
    },
    {
      "cell_type": "code",
      "execution_count": 3,
      "metadata": {
        "id": "L9cotEm-19T0"
      },
      "outputs": [],
      "source": [
        "from tensorflow.keras.models import Sequential\n",
        "from tensorflow.keras.layers import Dense, Flatten, Conv2D, MaxPooling2D"
      ]
    },
    {
      "cell_type": "markdown",
      "metadata": {
        "id": "3e4qU3yE19T0"
      },
      "source": [
        "#### Build a convolutional neural network model"
      ]
    },
    {
      "cell_type": "code",
      "execution_count": 47,
      "metadata": {
        "id": "LApVQGQy19T0"
      },
      "outputs": [],
      "source": [
        "# Build the Sequential convolutional neural network model\n",
        "model_c = Sequential([\n",
        "    Conv2D(filters=32, kernel_size=3, activation=tf.nn.relu, padding='same', input_shape=(28, 28, 1)),\n",
        "    MaxPooling2D(pool_size=2, padding='same'),\n",
        "    Conv2D(filters=64, kernel_size=3, activation=tf.nn.relu, padding='same'),\n",
        "    MaxPooling2D(pool_size=2,padding='same'),\n",
        "    Conv2D(filters=128, kernel_size=3, activation=tf.nn.relu, padding='same'),\n",
        "    MaxPooling2D(pool_size=2, padding='same'),\n",
        "    Flatten(),\n",
        "    Dense(512, activation=tf.nn.relu),\n",
        "    Dense(10, activation=tf.nn.softmax)\n",
        "])\n"
      ]
    },
    {
      "cell_type": "code",
      "execution_count": 6,
      "metadata": {
        "id": "hiv6-S4219T0",
        "outputId": "38c873a6-b604-4134-ef80-bacf5b7db021",
        "colab": {
          "base_uri": "https://localhost:8080/"
        }
      },
      "outputs": [
        {
          "output_type": "stream",
          "name": "stdout",
          "text": [
            "Model: \"sequential\"\n",
            "_________________________________________________________________\n",
            " Layer (type)                Output Shape              Param #   \n",
            "=================================================================\n",
            " conv2d (Conv2D)             (None, 26, 26, 32)        320       \n",
            "                                                                 \n",
            " max_pooling2d (MaxPooling2D  (None, 13, 13, 32)       0         \n",
            " )                                                               \n",
            "                                                                 \n",
            " conv2d_1 (Conv2D)           (None, 11, 11, 64)        18496     \n",
            "                                                                 \n",
            " max_pooling2d_1 (MaxPooling  (None, 5, 5, 64)         0         \n",
            " 2D)                                                             \n",
            "                                                                 \n",
            " conv2d_2 (Conv2D)           (None, 3, 3, 128)         73856     \n",
            "                                                                 \n",
            " max_pooling2d_2 (MaxPooling  (None, 1, 1, 128)        0         \n",
            " 2D)                                                             \n",
            "                                                                 \n",
            " flatten (Flatten)           (None, 128)               0         \n",
            "                                                                 \n",
            " dense (Dense)               (None, 512)               66048     \n",
            "                                                                 \n",
            " dense_1 (Dense)             (None, 10)                5130      \n",
            "                                                                 \n",
            "=================================================================\n",
            "Total params: 163,850\n",
            "Trainable params: 163,850\n",
            "Non-trainable params: 0\n",
            "_________________________________________________________________\n"
          ]
        }
      ],
      "source": [
        "# Print the model summary\n",
        "\n",
        "model_c.summary()"
      ]
    },
    {
      "cell_type": "markdown",
      "metadata": {
        "id": "V3iu3Lvt19T0"
      },
      "source": [
        "***\n",
        "<a id=\"coding_tutorial_3\"></a>\n",
        "## The compile method"
      ]
    },
    {
      "cell_type": "markdown",
      "metadata": {
        "id": "cgTbn-MF19T1"
      },
      "source": [
        "#### Compile the model"
      ]
    },
    {
      "cell_type": "code",
      "execution_count": 48,
      "metadata": {
        "id": "l_OUlZwh19T1"
      },
      "outputs": [],
      "source": [
        "# Define the model optimizer, loss function and metrics\n",
        "model_c.compile(loss='sparse_categorical_crossentropy', optimizer=tf.keras.optimizers.Adam(), metrics=['accuracy'])\n"
      ]
    },
    {
      "cell_type": "code",
      "execution_count": 9,
      "metadata": {
        "id": "y0OTYmU_19T1"
      },
      "outputs": [],
      "source": [
        "# Print the resulting model attributes\n",
        "#model_c.weights\n"
      ]
    },
    {
      "cell_type": "markdown",
      "metadata": {
        "id": "SaCizFz019T1"
      },
      "source": [
        "***\n",
        "<a id=\"coding_tutorial_4\"></a>\n",
        "## The fit method"
      ]
    },
    {
      "cell_type": "code",
      "execution_count": 10,
      "metadata": {
        "id": "tVwNwi2_19T1"
      },
      "outputs": [],
      "source": [
        "from tensorflow.keras.preprocessing import image\n",
        "import matplotlib.pyplot as plt\n",
        "import numpy as np\n",
        "import pandas as pd"
      ]
    },
    {
      "cell_type": "markdown",
      "metadata": {
        "id": "YIEiHlkv19T1"
      },
      "source": [
        "#### Load the data"
      ]
    },
    {
      "cell_type": "code",
      "execution_count": 18,
      "metadata": {
        "id": "k_gE5C3o19T1"
      },
      "outputs": [],
      "source": [
        "# Load the Fashion-MNIST dataset\n",
        "\n",
        "fashion_mnist_data = tf.keras.datasets.fashion_mnist\n",
        "(train_images, train_labels), (test_images, test_labels) = fashion_mnist_data.load_data()"
      ]
    },
    {
      "cell_type": "code",
      "execution_count": 12,
      "metadata": {
        "id": "2_60Rhwq19T1",
        "outputId": "a1dac918-4173-41c4-87db-87a42154bda5",
        "colab": {
          "base_uri": "https://localhost:8080/"
        }
      },
      "outputs": [
        {
          "output_type": "execute_result",
          "data": {
            "text/plain": [
              "(60000, 28, 28)"
            ]
          },
          "metadata": {},
          "execution_count": 12
        }
      ],
      "source": [
        "# Print the shape of the training data\n",
        "train_images.shape\n"
      ]
    },
    {
      "cell_type": "code",
      "execution_count": 19,
      "metadata": {
        "id": "itH82r_t19T2",
        "outputId": "d50eab7c-d4c0-4133-e31b-9c69082751c4",
        "colab": {
          "base_uri": "https://localhost:8080/",
          "height": 282
        }
      },
      "outputs": [
        {
          "output_type": "execute_result",
          "data": {
            "text/plain": [
              "<matplotlib.image.AxesImage at 0x7f819a5f2c50>"
            ]
          },
          "metadata": {},
          "execution_count": 19
        },
        {
          "output_type": "display_data",
          "data": {
            "text/plain": [
              "<Figure size 432x288 with 1 Axes>"
            ],
            "image/png": "[encoded data removed]"
          },
          "metadata": {
            "needs_background": "light"
          }
        }
      ],
      "source": [
        "# Display one of the images\n",
        "plt.imshow(train_images[9])\n"
      ]
    },
    {
      "cell_type": "code",
      "execution_count": 20,
      "metadata": {
        "id": "K8Bk4z7x19T2"
      },
      "outputs": [],
      "source": [
        "# Define the labels\n",
        "\n",
        "labels = [\n",
        "    'T-shirt/top',\n",
        "    'Trouser',\n",
        "    'Pullover',\n",
        "    'Dress',\n",
        "    'Coat',\n",
        "    'Sandal',\n",
        "    'Shirt',\n",
        "    'Sneaker',\n",
        "    'Bag',\n",
        "    'Ankle boot'\n",
        "]"
      ]
    },
    {
      "cell_type": "code",
      "source": [
        "# Reshape the images\n",
        "train_images = train_images.reshape(train_images.shape[0], 28, 28, 1)\n",
        "test_images = test_images.reshape(test_images.shape[0], 28, 28, 1)"
      ],
      "metadata": {
        "id": "jC9TADO8PQSR"
      },
      "execution_count": 21,
      "outputs": []
    },
    {
      "cell_type": "code",
      "execution_count": 22,
      "metadata": {
        "id": "E87P2nVP19T2"
      },
      "outputs": [],
      "source": [
        "# Rescale the image values so that they lie in between 0 and 1.\n",
        "train_images = train_images/255.0 \n",
        "test_images = test_images/255.0 \n"
      ]
    },
    {
      "cell_type": "markdown",
      "metadata": {
        "id": "Q1hJyHMx19T2"
      },
      "source": [
        "#### Fit the model"
      ]
    },
    {
      "cell_type": "code",
      "execution_count": 49,
      "metadata": {
        "id": "9zk5CRgc19T2",
        "outputId": "f03fa2dc-83f4-4e45-f023-05e807b70538",
        "colab": {
          "base_uri": "https://localhost:8080/"
        }
      },
      "outputs": [
        {
          "output_type": "stream",
          "name": "stdout",
          "text": [
            "Epoch 1/50\n",
            "1875/1875 - 6s - loss: 0.3953 - accuracy: 0.8534 - 6s/epoch - 3ms/step\n",
            "Epoch 2/50\n",
            "1875/1875 - 6s - loss: 0.2545 - accuracy: 0.9057 - 6s/epoch - 3ms/step\n",
            "Epoch 3/50\n",
            "1875/1875 - 5s - loss: 0.2111 - accuracy: 0.9211 - 5s/epoch - 3ms/step\n",
            "Epoch 4/50\n",
            "1875/1875 - 5s - loss: 0.1782 - accuracy: 0.9345 - 5s/epoch - 3ms/step\n",
            "Epoch 5/50\n",
            "1875/1875 - 5s - loss: 0.1515 - accuracy: 0.9425 - 5s/epoch - 3ms/step\n",
            "Epoch 6/50\n",
            "1875/1875 - 5s - loss: 0.1279 - accuracy: 0.9524 - 5s/epoch - 3ms/step\n",
            "Epoch 7/50\n",
            "1875/1875 - 5s - loss: 0.1061 - accuracy: 0.9601 - 5s/epoch - 3ms/step\n",
            "Epoch 8/50\n",
            "1875/1875 - 5s - loss: 0.0903 - accuracy: 0.9661 - 5s/epoch - 3ms/step\n",
            "Epoch 9/50\n",
            "1875/1875 - 5s - loss: 0.0774 - accuracy: 0.9703 - 5s/epoch - 3ms/step\n",
            "Epoch 10/50\n",
            "1875/1875 - 5s - loss: 0.0645 - accuracy: 0.9755 - 5s/epoch - 3ms/step\n",
            "Epoch 11/50\n",
            "1875/1875 - 5s - loss: 0.0585 - accuracy: 0.9777 - 5s/epoch - 3ms/step\n",
            "Epoch 12/50\n",
            "1875/1875 - 5s - loss: 0.0498 - accuracy: 0.9814 - 5s/epoch - 3ms/step\n",
            "Epoch 13/50\n",
            "1875/1875 - 5s - loss: 0.0456 - accuracy: 0.9833 - 5s/epoch - 3ms/step\n",
            "Epoch 14/50\n",
            "1875/1875 - 5s - loss: 0.0404 - accuracy: 0.9847 - 5s/epoch - 3ms/step\n",
            "Epoch 15/50\n",
            "1875/1875 - 5s - loss: 0.0410 - accuracy: 0.9854 - 5s/epoch - 3ms/step\n",
            "Epoch 16/50\n",
            "1875/1875 - 5s - loss: 0.0325 - accuracy: 0.9883 - 5s/epoch - 3ms/step\n",
            "Epoch 17/50\n",
            "1875/1875 - 5s - loss: 0.0329 - accuracy: 0.9881 - 5s/epoch - 3ms/step\n",
            "Epoch 18/50\n",
            "1875/1875 - 5s - loss: 0.0345 - accuracy: 0.9880 - 5s/epoch - 3ms/step\n",
            "Epoch 19/50\n",
            "1875/1875 - 5s - loss: 0.0318 - accuracy: 0.9890 - 5s/epoch - 3ms/step\n",
            "Epoch 20/50\n",
            "1875/1875 - 5s - loss: 0.0299 - accuracy: 0.9899 - 5s/epoch - 3ms/step\n",
            "Epoch 21/50\n",
            "1875/1875 - 5s - loss: 0.0267 - accuracy: 0.9905 - 5s/epoch - 3ms/step\n",
            "Epoch 22/50\n",
            "1875/1875 - 5s - loss: 0.0305 - accuracy: 0.9905 - 5s/epoch - 3ms/step\n",
            "Epoch 23/50\n",
            "1875/1875 - 5s - loss: 0.0312 - accuracy: 0.9897 - 5s/epoch - 3ms/step\n",
            "Epoch 24/50\n",
            "1875/1875 - 5s - loss: 0.0257 - accuracy: 0.9917 - 5s/epoch - 3ms/step\n",
            "Epoch 25/50\n",
            "1875/1875 - 5s - loss: 0.0250 - accuracy: 0.9919 - 5s/epoch - 3ms/step\n",
            "Epoch 26/50\n",
            "1875/1875 - 5s - loss: 0.0278 - accuracy: 0.9909 - 5s/epoch - 3ms/step\n",
            "Epoch 27/50\n",
            "1875/1875 - 5s - loss: 0.0213 - accuracy: 0.9930 - 5s/epoch - 3ms/step\n",
            "Epoch 28/50\n",
            "1875/1875 - 5s - loss: 0.0270 - accuracy: 0.9915 - 5s/epoch - 3ms/step\n",
            "Epoch 29/50\n",
            "1875/1875 - 5s - loss: 0.0272 - accuracy: 0.9921 - 5s/epoch - 3ms/step\n",
            "Epoch 30/50\n",
            "1875/1875 - 5s - loss: 0.0273 - accuracy: 0.9920 - 5s/epoch - 3ms/step\n",
            "Epoch 31/50\n",
            "1875/1875 - 5s - loss: 0.0240 - accuracy: 0.9927 - 5s/epoch - 3ms/step\n",
            "Epoch 32/50\n",
            "1875/1875 - 6s - loss: 0.0244 - accuracy: 0.9924 - 6s/epoch - 3ms/step\n",
            "Epoch 33/50\n",
            "1875/1875 - 5s - loss: 0.0236 - accuracy: 0.9925 - 5s/epoch - 3ms/step\n",
            "Epoch 34/50\n",
            "1875/1875 - 5s - loss: 0.0245 - accuracy: 0.9927 - 5s/epoch - 3ms/step\n",
            "Epoch 35/50\n",
            "1875/1875 - 5s - loss: 0.0244 - accuracy: 0.9927 - 5s/epoch - 3ms/step\n",
            "Epoch 36/50\n",
            "1875/1875 - 5s - loss: 0.0218 - accuracy: 0.9939 - 5s/epoch - 3ms/step\n",
            "Epoch 37/50\n",
            "1875/1875 - 5s - loss: 0.0274 - accuracy: 0.9925 - 5s/epoch - 3ms/step\n",
            "Epoch 38/50\n",
            "1875/1875 - 5s - loss: 0.0261 - accuracy: 0.9932 - 5s/epoch - 3ms/step\n",
            "Epoch 39/50\n",
            "1875/1875 - 5s - loss: 0.0209 - accuracy: 0.9945 - 5s/epoch - 3ms/step\n",
            "Epoch 40/50\n",
            "1875/1875 - 5s - loss: 0.0198 - accuracy: 0.9941 - 5s/epoch - 3ms/step\n",
            "Epoch 41/50\n",
            "1875/1875 - 5s - loss: 0.0269 - accuracy: 0.9928 - 5s/epoch - 3ms/step\n",
            "Epoch 42/50\n",
            "1875/1875 - 5s - loss: 0.0186 - accuracy: 0.9948 - 5s/epoch - 3ms/step\n",
            "Epoch 43/50\n",
            "1875/1875 - 5s - loss: 0.0231 - accuracy: 0.9937 - 5s/epoch - 3ms/step\n",
            "Epoch 44/50\n",
            "1875/1875 - 5s - loss: 0.0216 - accuracy: 0.9941 - 5s/epoch - 3ms/step\n",
            "Epoch 45/50\n",
            "1875/1875 - 5s - loss: 0.0240 - accuracy: 0.9936 - 5s/epoch - 3ms/step\n",
            "Epoch 46/50\n",
            "1875/1875 - 5s - loss: 0.0256 - accuracy: 0.9930 - 5s/epoch - 3ms/step\n",
            "Epoch 47/50\n",
            "1875/1875 - 5s - loss: 0.0230 - accuracy: 0.9940 - 5s/epoch - 3ms/step\n",
            "Epoch 48/50\n",
            "1875/1875 - 5s - loss: 0.0211 - accuracy: 0.9945 - 5s/epoch - 3ms/step\n",
            "Epoch 49/50\n",
            "1875/1875 - 5s - loss: 0.0206 - accuracy: 0.9945 - 5s/epoch - 3ms/step\n",
            "Epoch 50/50\n",
            "1875/1875 - 5s - loss: 0.0270 - accuracy: 0.9938 - 5s/epoch - 3ms/step\n"
          ]
        }
      ],
      "source": [
        "# Fit the model\n",
        "history = model_c.fit(train_images, train_labels, epochs=50, verbose=2)\n"
      ]
    },
    {
      "cell_type": "markdown",
      "metadata": {
        "id": "IkOKTkGI19T2"
      },
      "source": [
        "#### Plot training history"
      ]
    },
    {
      "cell_type": "code",
      "execution_count": 50,
      "metadata": {
        "id": "38OmrYQc19T2",
        "outputId": "826493ed-442f-46e4-ba29-ba8d316f8f82",
        "colab": {
          "base_uri": "https://localhost:8080/",
          "height": 206
        }
      },
      "outputs": [
        {
          "output_type": "execute_result",
          "data": {
            "text/plain": [
              "       loss  accuracy\n",
              "0  0.395296  0.853417\n",
              "1  0.254533  0.905750\n",
              "2  0.211134  0.921067\n",
              "3  0.178207  0.934500\n",
              "4  0.151514  0.942517"
            ],
            "text/html": [
              "\n",
              "  <div id=\"df-06b70d7f-c5b4-4392-baa8-f80297a3236a\">\n",
              "    <div class=\"colab-df-container\">\n",
              "      <div>\n",
              "<style scoped>\n",
              "    .dataframe tbody tr th:only-of-type {\n",
              "        vertical-align: middle;\n",
              "    }\n",
              "\n",
              "    .dataframe tbody tr th {\n",
              "        vertical-align: top;\n",
              "    }\n",
              "\n",
              "    .dataframe thead th {\n",
              "        text-align: right;\n",
              "    }\n",
              "</style>\n",
              "<table border=\"1\" class=\"dataframe\">\n",
              "  <thead>\n",
              "    <tr style=\"text-align: right;\">\n",
              "      <th></th>\n",
              "      <th>loss</th>\n",
              "      <th>accuracy</th>\n",
              "    </tr>\n",
              "  </thead>\n",
              "  <tbody>\n",
              "    <tr>\n",
              "      <th>0</th>\n",
              "      <td>0.395296</td>\n",
              "      <td>0.853417</td>\n",
              "    </tr>\n",
              "    <tr>\n",
              "      <th>1</th>\n",
              "      <td>0.254533</td>\n",
              "      <td>0.905750</td>\n",
              "    </tr>\n",
              "    <tr>\n",
              "      <th>2</th>\n",
              "      <td>0.211134</td>\n",
              "      <td>0.921067</td>\n",
              "    </tr>\n",
              "    <tr>\n",
              "      <th>3</th>\n",
              "      <td>0.178207</td>\n",
              "      <td>0.934500</td>\n",
              "    </tr>\n",
              "    <tr>\n",
              "      <th>4</th>\n",
              "      <td>0.151514</td>\n",
              "      <td>0.942517</td>\n",
              "    </tr>\n",
              "  </tbody>\n",
              "</table>\n",
              "</div>\n",
              "      <button class=\"colab-df-convert\" onclick=\"convertToInteractive('df-06b70d7f-c5b4-4392-baa8-f80297a3236a')\"\n",
              "              title=\"Convert this dataframe to an interactive table.\"\n",
              "              style=\"display:none;\">\n",
              "        \n",
              "  <svg xmlns=\"http://www.w3.org/2000/svg\" height=\"24px\"viewBox=\"0 0 24 24\"\n",
              "       width=\"24px\">\n",
              "    <path d=\"M0 0h24v24H0V0z\" fill=\"none\"/>\n",
              "    <path d=\"M18.56 5.44l.94 2.06.94-2.06 2.06-.94-2.06-.94-.94-2.06-.94 2.06-2.06.94zm-11 1L8.5 8.5l.94-2.06 2.06-.94-2.06-.94L8.5 2.5l-.94 2.06-2.06.94zm10 10l.94 2.06.94-2.06 2.06-.94-2.06-.94-.94-2.06-.94 2.06-2.06.94z\"/><path d=\"M17.41 7.96l-1.37-1.37c-.4-.4-.92-.59-1.43-.59-.52 0-1.04.2-1.43.59L10.3 9.45l-7.72 7.72c-.78.78-.78 2.05 0 2.83L4 21.41c.39.39.9.59 1.41.59.51 0 1.02-.2 1.41-.59l7.78-7.78 2.81-2.81c.8-.78.8-2.07 0-2.86zM5.41 20L4 18.59l7.72-7.72 1.47 1.35L5.41 20z\"/>\n",
              "  </svg>\n",
              "      </button>\n",
              "      \n",
              "  <style>\n",
              "    .colab-df-container {\n",
              "      display:flex;\n",
              "      flex-wrap:wrap;\n",
              "      gap: 12px;\n",
              "    }\n",
              "\n",
              "    .colab-df-convert {\n",
              "      background-color: #E8F0FE;\n",
              "      border: none;\n",
              "      border-radius: 50%;\n",
              "      cursor: pointer;\n",
              "      display: none;\n",
              "      fill: #1967D2;\n",
              "      height: 32px;\n",
              "      padding: 0 0 0 0;\n",
              "      width: 32px;\n",
              "    }\n",
              "\n",
              "    .colab-df-convert:hover {\n",
              "      background-color: #E2EBFA;\n",
              "      box-shadow: 0px 1px 2px rgba(60, 64, 67, 0.3), 0px 1px 3px 1px rgba(60, 64, 67, 0.15);\n",
              "      fill: #174EA6;\n",
              "    }\n",
              "\n",
              "    [theme=dark] .colab-df-convert {\n",
              "      background-color: #3B4455;\n",
              "      fill: #D2E3FC;\n",
              "    }\n",
              "\n",
              "    [theme=dark] .colab-df-convert:hover {\n",
              "      background-color: #434B5C;\n",
              "      box-shadow: 0px 1px 3px 1px rgba(0, 0, 0, 0.15);\n",
              "      filter: drop-shadow(0px 1px 2px rgba(0, 0, 0, 0.3));\n",
              "      fill: #FFFFFF;\n",
              "    }\n",
              "  </style>\n",
              "\n",
              "      <script>\n",
              "        const buttonEl =\n",
              "          document.querySelector('#df-06b70d7f-c5b4-4392-baa8-f80297a3236a button.colab-df-convert');\n",
              "        buttonEl.style.display =\n",
              "          google.colab.kernel.accessAllowed ? 'block' : 'none';\n",
              "\n",
              "        async function convertToInteractive(key) {\n",
              "          const element = document.querySelector('#df-06b70d7f-c5b4-4392-baa8-f80297a3236a');\n",
              "          const dataTable =\n",
              "            await google.colab.kernel.invokeFunction('convertToInteractive',\n",
              "                                                     [key], {});\n",
              "          if (!dataTable) return;\n",
              "\n",
              "          const docLinkHtml = 'Like what you see? Visit the ' +\n",
              "            '<a target=\"_blank\" href=https://colab.research.google.com/notebooks/data_table.ipynb>data table notebook</a>'\n",
              "            + ' to learn more about interactive tables.';\n",
              "          element.innerHTML = '';\n",
              "          dataTable['output_type'] = 'display_data';\n",
              "          await google.colab.output.renderOutput(dataTable, element);\n",
              "          const docLink = document.createElement('div');\n",
              "          docLink.innerHTML = docLinkHtml;\n",
              "          element.appendChild(docLink);\n",
              "        }\n",
              "      </script>\n",
              "    </div>\n",
              "  </div>\n",
              "  "
            ]
          },
          "metadata": {},
          "execution_count": 50
        }
      ],
      "source": [
        "# Load the history into a pandas Dataframe\n",
        "history_dataframe = pd.DataFrame(history.history)\n",
        "history_dataframe.head()\n"
      ]
    },
    {
      "cell_type": "code",
      "execution_count": 51,
      "metadata": {
        "id": "Zji-6J0H19T2",
        "outputId": "b4ae55ae-b036-49fd-c6af-303d724aa645",
        "colab": {
          "base_uri": "https://localhost:8080/",
          "height": 282
        }
      },
      "outputs": [
        {
          "output_type": "execute_result",
          "data": {
            "text/plain": [
              "[<matplotlib.lines.Line2D at 0x7f8164418250>]"
            ]
          },
          "metadata": {},
          "execution_count": 51
        },
        {
          "output_type": "display_data",
          "data": {
            "text/plain": [
              "<Figure size 432x288 with 1 Axes>"
            ],
            "image/png": "[encoded data removed]"
          },
          "metadata": {
            "needs_background": "light"
          }
        }
      ],
      "source": [
        "# Make a plot for the loss\n",
        "plt.plot(history_dataframe['loss'])\n"
      ]
    },
    {
      "cell_type": "code",
      "execution_count": 52,
      "metadata": {
        "id": "zH6IRWNP19T2",
        "outputId": "581462dd-d7be-4f09-cc78-49593da2af32",
        "colab": {
          "base_uri": "https://localhost:8080/",
          "height": 284
        }
      },
      "outputs": [
        {
          "output_type": "execute_result",
          "data": {
            "text/plain": [
              "[<matplotlib.lines.Line2D at 0x7f8164383990>]"
            ]
          },
          "metadata": {},
          "execution_count": 52
        },
        {
          "output_type": "display_data",
          "data": {
            "text/plain": [
              "<Figure size 432x288 with 1 Axes>"
            ],
            "image/png": "[encoded data removed]"
          },
          "metadata": {
            "needs_background": "light"
          }
        }
      ],
      "source": [
        "# Make a plot for the accuracy\n",
        "plt.plot(history_dataframe['accuracy'])\n"
      ]
    },
    {
      "cell_type": "code",
      "execution_count": null,
      "metadata": {
        "id": "m2uSWfLF19T2"
      },
      "outputs": [],
      "source": [
        "# Make a plot for the additional metric\n",
        "\n"
      ]
    },
    {
      "cell_type": "markdown",
      "metadata": {
        "id": "xeiQvzRv19T2"
      },
      "source": [
        "***\n",
        "<a id=\"coding_tutorial_5\"></a>\n",
        "## The evaluate and predict methods"
      ]
    },
    {
      "cell_type": "code",
      "execution_count": 53,
      "metadata": {
        "id": "yZrl7SlD19T3"
      },
      "outputs": [],
      "source": [
        "import matplotlib.pyplot as plt\n",
        "import numpy as np"
      ]
    },
    {
      "cell_type": "markdown",
      "metadata": {
        "id": "eRmdNjnK19T3"
      },
      "source": [
        "#### Evaluate the model on the test set"
      ]
    },
    {
      "cell_type": "code",
      "execution_count": 54,
      "metadata": {
        "id": "H3F3jexj19T3",
        "outputId": "b5a86ca9-bd0c-468f-b270-f00a7d4c3b45",
        "colab": {
          "base_uri": "https://localhost:8080/"
        }
      },
      "outputs": [
        {
          "output_type": "stream",
          "name": "stdout",
          "text": [
            "313/313 [==============================] - 1s 3ms/step - loss: 1.0363 - accuracy: 0.9211\n"
          ]
        }
      ],
      "source": [
        "# Evaluate the model\n",
        "test_loss, test_accuracy = model_c.evaluate(test_images, test_labels)\n"
      ]
    },
    {
      "cell_type": "markdown",
      "metadata": {
        "id": "LogtzdSs19T3"
      },
      "source": [
        "#### Make predictions from the model"
      ]
    },
    {
      "cell_type": "code",
      "execution_count": 55,
      "metadata": {
        "id": "-ug9yYc_19T3",
        "outputId": "fbde2d52-6deb-45be-d4f5-1d4b15004347",
        "colab": {
          "base_uri": "https://localhost:8080/",
          "height": 282
        }
      },
      "outputs": [
        {
          "output_type": "display_data",
          "data": {
            "text/plain": [
              "<Figure size 432x288 with 1 Axes>"
            ],
            "image/png": "[encoded data removed]"
          },
          "metadata": {
            "needs_background": "light"
          }
        },
        {
          "output_type": "stream",
          "name": "stdout",
          "text": [
            "Label: Bag\n"
          ]
        }
      ],
      "source": [
        "# Choose a random test image\n",
        "\n",
        "random_inx = np.random.choice(test_images.shape[0])\n",
        "idx = 30\n",
        "test_image = test_images[idx]\n",
        "plt.imshow(test_image.reshape(28, 28))\n",
        "plt.show()\n",
        "print(f\"Label: {labels[test_labels[idx]]}\")"
      ]
    },
    {
      "cell_type": "code",
      "source": [
        "test_images[30].shape"
      ],
      "metadata": {
        "id": "_oDJ1aDZWwPP",
        "outputId": "2596fdda-5d3d-46e5-c9ae-ea06e9972a5d",
        "colab": {
          "base_uri": "https://localhost:8080/"
        }
      },
      "execution_count": 59,
      "outputs": [
        {
          "output_type": "execute_result",
          "data": {
            "text/plain": [
              "(28, 28, 1)"
            ]
          },
          "metadata": {},
          "execution_count": 59
        }
      ]
    },
    {
      "cell_type": "code",
      "execution_count": 60,
      "metadata": {
        "id": "Y2cqO2Nd19T3",
        "outputId": "36263593-46f5-43bf-90a4-56de65b8025b",
        "colab": {
          "base_uri": "https://localhost:8080/"
        }
      },
      "outputs": [
        {
          "output_type": "stream",
          "name": "stdout",
          "text": [
            "313/313 [==============================] - 1s 2ms/step\n"
          ]
        }
      ],
      "source": [
        "# Get the model predictions\n",
        "pred = model_c.predict(test_images)\n"
      ]
    },
    {
      "cell_type": "code",
      "source": [
        "print(f'The model\\'s prediction for {labels[test_labels[idx]]} is {labels[np.argmax(pred[30])]}')"
      ],
      "metadata": {
        "id": "f6EmDQ5uj_BD",
        "outputId": "e27454d1-90f2-416a-d334-a850cca267a7",
        "colab": {
          "base_uri": "https://localhost:8080/"
        }
      },
      "execution_count": 63,
      "outputs": [
        {
          "output_type": "stream",
          "name": "stdout",
          "text": [
            "The model's prediction for Bag is Bag\n"
          ]
        }
      ]
    },
    {
      "cell_type": "code",
      "source": [],
      "metadata": {
        "id": "3wKQXlExkDUx"
      },
      "execution_count": null,
      "outputs": []
    }
  ],
  "metadata": {
    "kernelspec": {
      "display_name": "Python 3",
      "language": "python",
      "name": "python3"
    },
    "language_info": {
      "codemirror_mode": {
        "name": "ipython",
        "version": 3
      },
      "file_extension": ".py",
      "mimetype": "text/x-python",
      "name": "python",
      "nbconvert_exporter": "python",
      "pygments_lexer": "ipython3",
      "version": "3.7.1"
    },
    "colab": {
      "provenance": [],
      "include_colab_link": true
    },
    "accelerator": "GPU",
    "gpuClass": "standard"
  },
  "nbformat": 4,
  "nbformat_minor": 0
}
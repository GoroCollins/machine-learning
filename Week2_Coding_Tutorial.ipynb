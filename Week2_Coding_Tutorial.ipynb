{
  "cells": [
    {
      "cell_type": "markdown",
      "metadata": {
        "id": "view-in-github",
        "colab_type": "text"
      },
      "source": [
        "<a href=\"https://colab.research.google.com/github/GoroCollins/machine-learning/blob/main/Week2_Coding_Tutorial.ipynb\" target=\"_parent\"><img src=\"https://colab.research.google.com/assets/colab-badge.svg\" alt=\"Open In Colab\"/></a>"
      ]
    },
    {
      "cell_type": "code",
      "execution_count": 1,
      "metadata": {
        "scrolled": true,
        "id": "aFfiNjiBoNW4",
        "outputId": "629276fb-60fb-4667-b8b7-675c2011615b",
        "colab": {
          "base_uri": "https://localhost:8080/"
        }
      },
      "outputs": [
        {
          "output_type": "stream",
          "name": "stdout",
          "text": [
            "2.9.2\n"
          ]
        }
      ],
      "source": [
        "import tensorflow as tf\n",
        "print(tf.__version__)"
      ]
    },
    {
      "cell_type": "markdown",
      "metadata": {
        "id": "QA3Cv6MvoNW7"
      },
      "source": [
        "# Validation, regularisation and callbacks"
      ]
    },
    {
      "cell_type": "markdown",
      "metadata": {
        "id": "WBzBe48VoNW8"
      },
      "source": [
        " ## Coding tutorials\n",
        " #### [1. Validation sets](#coding_tutorial_1)\n",
        " #### [2. Model regularisation](#coding_tutorial_2)\n",
        " #### [3. Introduction to callbacks](#coding_tutorial_3)\n",
        " #### [4. Early stopping / patience](#coding_tutorial_4)"
      ]
    },
    {
      "cell_type": "markdown",
      "metadata": {
        "id": "ydbByhWZoNW8"
      },
      "source": [
        "***\n",
        "<a id=\"coding_tutorial_1\"></a>\n",
        "## Validation sets"
      ]
    },
    {
      "cell_type": "markdown",
      "metadata": {
        "id": "wsYSrghFoNW8"
      },
      "source": [
        "#### Load the data"
      ]
    },
    {
      "cell_type": "code",
      "execution_count": 2,
      "metadata": {
        "id": "htEpztLeoNW9"
      },
      "outputs": [],
      "source": [
        "# Load the diabetes dataset\n",
        "from sklearn.datasets import load_diabetes\n",
        "diabetes_data = load_diabetes()"
      ]
    },
    {
      "cell_type": "code",
      "execution_count": 3,
      "metadata": {
        "id": "NuC-Un3RoNW9"
      },
      "outputs": [],
      "source": [
        "# Save the input and target variables\n",
        "data = diabetes_data.data\n",
        "target = diabetes_data.target"
      ]
    },
    {
      "cell_type": "code",
      "execution_count": 4,
      "metadata": {
        "id": "jazsSnL4oNW9"
      },
      "outputs": [],
      "source": [
        "# Normalise the target data (this will make clearer training curves)\n",
        "target = target/255.0\n"
      ]
    },
    {
      "cell_type": "code",
      "execution_count": 5,
      "metadata": {
        "id": "DgJSUyCNoNW-"
      },
      "outputs": [],
      "source": [
        "# Split the data into train and test sets\n",
        "from sklearn.model_selection import train_test_split\n",
        "x_train, x_test, y_train, y_test = train_test_split(data, target, random_state=42, test_size=0.2)"
      ]
    },
    {
      "cell_type": "code",
      "source": [
        "x_train.shape[1]"
      ],
      "metadata": {
        "id": "zyt6Ay0GtLNK",
        "outputId": "d3743663-6185-43b4-ed0b-dd56eaed992d",
        "colab": {
          "base_uri": "https://localhost:8080/"
        }
      },
      "execution_count": 6,
      "outputs": [
        {
          "output_type": "execute_result",
          "data": {
            "text/plain": [
              "10"
            ]
          },
          "metadata": {},
          "execution_count": 6
        }
      ]
    },
    {
      "cell_type": "markdown",
      "metadata": {
        "id": "0vAzE__WoNW-"
      },
      "source": [
        "#### Train a feedforward neural network model"
      ]
    },
    {
      "cell_type": "code",
      "execution_count": 7,
      "metadata": {
        "id": "qzG34cyNoNW_"
      },
      "outputs": [],
      "source": [
        "# Build the model\n",
        "model = tf.keras.Sequential([\n",
        "    tf.keras.layers.Dense(units=64, activation=tf.nn.relu, input_shape=(x_train.shape[1],)),\n",
        "    tf.keras.layers.Dense(128, activation='relu'),\n",
        "    tf.keras.layers.Dense(512, activation=tf.nn.relu),\n",
        "    tf.keras.layers.Dense(1)\n",
        "])\n"
      ]
    },
    {
      "cell_type": "code",
      "execution_count": 8,
      "metadata": {
        "id": "Tx8xd6m_oNW_",
        "outputId": "b6cc6e5c-092f-4adc-bbe0-a9cab6b948e7",
        "colab": {
          "base_uri": "https://localhost:8080/"
        }
      },
      "outputs": [
        {
          "output_type": "stream",
          "name": "stdout",
          "text": [
            "Model: \"sequential\"\n",
            "_________________________________________________________________\n",
            " Layer (type)                Output Shape              Param #   \n",
            "=================================================================\n",
            " dense (Dense)               (None, 64)                704       \n",
            "                                                                 \n",
            " dense_1 (Dense)             (None, 128)               8320      \n",
            "                                                                 \n",
            " dense_2 (Dense)             (None, 512)               66048     \n",
            "                                                                 \n",
            " dense_3 (Dense)             (None, 1)                 513       \n",
            "                                                                 \n",
            "=================================================================\n",
            "Total params: 75,585\n",
            "Trainable params: 75,585\n",
            "Non-trainable params: 0\n",
            "_________________________________________________________________\n"
          ]
        }
      ],
      "source": [
        "# Print the model summary\n",
        "model.summary()\n"
      ]
    },
    {
      "cell_type": "code",
      "execution_count": 9,
      "metadata": {
        "id": "rJxkj1_loNW_"
      },
      "outputs": [],
      "source": [
        "# Compile the model\n",
        "model.compile(loss='mse', optimizer='adam', metrics=['mae'])\n"
      ]
    },
    {
      "cell_type": "code",
      "execution_count": 10,
      "metadata": {
        "id": "W1JlXjZhoNW_",
        "outputId": "0a788852-bf80-4973-e425-431b13349dca",
        "colab": {
          "base_uri": "https://localhost:8080/"
        }
      },
      "outputs": [
        {
          "output_type": "stream",
          "name": "stdout",
          "text": [
            "Epoch 1/20\n",
            "9/9 - 1s - loss: 0.3664 - mae: 0.5144 - val_loss: 0.1180 - val_mae: 0.2587 - 903ms/epoch - 100ms/step\n",
            "Epoch 2/20\n",
            "9/9 - 0s - loss: 0.1167 - mae: 0.2782 - val_loss: 0.1291 - val_mae: 0.3146 - 73ms/epoch - 8ms/step\n",
            "Epoch 3/20\n",
            "9/9 - 0s - loss: 0.0832 - mae: 0.2447 - val_loss: 0.0500 - val_mae: 0.1837 - 55ms/epoch - 6ms/step\n",
            "Epoch 4/20\n",
            "9/9 - 0s - loss: 0.0619 - mae: 0.2066 - val_loss: 0.0469 - val_mae: 0.1787 - 61ms/epoch - 7ms/step\n",
            "Epoch 5/20\n",
            "9/9 - 0s - loss: 0.0498 - mae: 0.1871 - val_loss: 0.0519 - val_mae: 0.1925 - 68ms/epoch - 8ms/step\n",
            "Epoch 6/20\n",
            "9/9 - 0s - loss: 0.0472 - mae: 0.1800 - val_loss: 0.0464 - val_mae: 0.1758 - 55ms/epoch - 6ms/step\n",
            "Epoch 7/20\n",
            "9/9 - 0s - loss: 0.0453 - mae: 0.1730 - val_loss: 0.0474 - val_mae: 0.1773 - 54ms/epoch - 6ms/step\n",
            "Epoch 8/20\n",
            "9/9 - 0s - loss: 0.0435 - mae: 0.1696 - val_loss: 0.0476 - val_mae: 0.1762 - 70ms/epoch - 8ms/step\n",
            "Epoch 9/20\n",
            "9/9 - 0s - loss: 0.0432 - mae: 0.1694 - val_loss: 0.0487 - val_mae: 0.1783 - 70ms/epoch - 8ms/step\n",
            "Epoch 10/20\n",
            "9/9 - 0s - loss: 0.0425 - mae: 0.1666 - val_loss: 0.0481 - val_mae: 0.1747 - 70ms/epoch - 8ms/step\n",
            "Epoch 11/20\n",
            "9/9 - 0s - loss: 0.0433 - mae: 0.1688 - val_loss: 0.0496 - val_mae: 0.1798 - 67ms/epoch - 7ms/step\n",
            "Epoch 12/20\n",
            "9/9 - 0s - loss: 0.0449 - mae: 0.1691 - val_loss: 0.0496 - val_mae: 0.1802 - 72ms/epoch - 8ms/step\n",
            "Epoch 13/20\n",
            "9/9 - 0s - loss: 0.0422 - mae: 0.1669 - val_loss: 0.0489 - val_mae: 0.1782 - 70ms/epoch - 8ms/step\n",
            "Epoch 14/20\n",
            "9/9 - 0s - loss: 0.0418 - mae: 0.1646 - val_loss: 0.0488 - val_mae: 0.1772 - 51ms/epoch - 6ms/step\n",
            "Epoch 15/20\n",
            "9/9 - 0s - loss: 0.0412 - mae: 0.1649 - val_loss: 0.0496 - val_mae: 0.1803 - 71ms/epoch - 8ms/step\n",
            "Epoch 16/20\n",
            "9/9 - 0s - loss: 0.0410 - mae: 0.1641 - val_loss: 0.0486 - val_mae: 0.1766 - 55ms/epoch - 6ms/step\n",
            "Epoch 17/20\n",
            "9/9 - 0s - loss: 0.0416 - mae: 0.1646 - val_loss: 0.0484 - val_mae: 0.1763 - 53ms/epoch - 6ms/step\n",
            "Epoch 18/20\n",
            "9/9 - 0s - loss: 0.0406 - mae: 0.1615 - val_loss: 0.0524 - val_mae: 0.1872 - 56ms/epoch - 6ms/step\n",
            "Epoch 19/20\n",
            "9/9 - 0s - loss: 0.0413 - mae: 0.1632 - val_loss: 0.0487 - val_mae: 0.1759 - 74ms/epoch - 8ms/step\n",
            "Epoch 20/20\n",
            "9/9 - 0s - loss: 0.0425 - mae: 0.1647 - val_loss: 0.0489 - val_mae: 0.1763 - 52ms/epoch - 6ms/step\n"
          ]
        }
      ],
      "source": [
        "# Train the model, with some of the data reserved for validation\n",
        "history = model.fit(x_train, y_train, epochs=20, validation_split=0.2, verbose=2)\n"
      ]
    },
    {
      "cell_type": "code",
      "execution_count": 11,
      "metadata": {
        "id": "7RXbxOrVoNXA",
        "outputId": "70efe067-039c-4e78-ed8e-cfa89d9f47ad",
        "colab": {
          "base_uri": "https://localhost:8080/"
        }
      },
      "outputs": [
        {
          "output_type": "stream",
          "name": "stdout",
          "text": [
            "3/3 [==============================] - 0s 4ms/step - loss: 0.0433 - mae: 0.1663\n"
          ]
        }
      ],
      "source": [
        "# Evaluate the model on the test set\n",
        "test_loss, test_accuracy = model.evaluate(x_test, y_test)\n"
      ]
    },
    {
      "cell_type": "markdown",
      "metadata": {
        "id": "h37NMrCAoNXA"
      },
      "source": [
        "#### Plot the learning curves"
      ]
    },
    {
      "cell_type": "code",
      "execution_count": 12,
      "metadata": {
        "id": "Ru_dMlcXoNXA"
      },
      "outputs": [],
      "source": [
        "import matplotlib.pyplot as plt\n",
        "%matplotlib inline"
      ]
    },
    {
      "cell_type": "code",
      "execution_count": 13,
      "metadata": {
        "id": "kujCIlGZoNXA",
        "outputId": "933edf12-3310-4391-e55b-5133de4a9ac0",
        "colab": {
          "base_uri": "https://localhost:8080/",
          "height": 295
        }
      },
      "outputs": [
        {
          "output_type": "display_data",
          "data": {
            "text/plain": [
              "<Figure size 432x288 with 1 Axes>"
            ],
            "image/png": "[encoded data removed]"
          },
          "metadata": {
            "needs_background": "light"
          }
        }
      ],
      "source": [
        "# Plot the training and validation loss\n",
        "\n",
        "plt.plot(history.history['loss'])\n",
        "plt.plot(history.history['val_loss'])\n",
        "plt.title('Loss vs. epochs')\n",
        "plt.ylabel('Loss')\n",
        "plt.xlabel('Epoch')\n",
        "plt.legend(['Training', 'Validation'], loc='upper right')\n",
        "plt.show()"
      ]
    },
    {
      "cell_type": "markdown",
      "metadata": {
        "id": "Vn2z3vhwoNXA"
      },
      "source": [
        "***\n",
        "<a id=\"coding_tutorial_2\"></a>\n",
        "## Model regularisation"
      ]
    },
    {
      "cell_type": "markdown",
      "metadata": {
        "id": "JZm1_iERoNXB"
      },
      "source": [
        "#### Adding regularisation with weight decay and dropout"
      ]
    },
    {
      "cell_type": "code",
      "execution_count": 14,
      "metadata": {
        "id": "7F_vIFYSoNXB"
      },
      "outputs": [],
      "source": [
        "from tensorflow.keras.layers import Dropout, Dense\n",
        "from tensorflow.keras import regularizers"
      ]
    },
    {
      "cell_type": "code",
      "execution_count": 15,
      "metadata": {
        "id": "ckgZAlqaoNXB"
      },
      "outputs": [],
      "source": [
        "def get_regularised_model(wd, rate):\n",
        "    model = tf.keras.Sequential([\n",
        "        Dense(128, kernel_regularizer=regularizers.l2(wd),activation=\"relu\", input_shape=(x_train.shape[1],)),\n",
        "        Dropout(rate),\n",
        "        Dense(128, kernel_regularizer=regularizers.l2(wd), activation=\"relu\"),\n",
        "        Dropout(rate),\n",
        "        Dense(128, kernel_regularizer=regularizers.l2(wd), activation=\"relu\"),\n",
        "        Dropout(rate),\n",
        "        Dense(128, kernel_regularizer=regularizers.l2(wd), activation=\"relu\"),\n",
        "        Dropout(rate),\n",
        "        Dense(128, kernel_regularizer=regularizers.l2(wd), activation=\"relu\"),\n",
        "        Dropout(rate),\n",
        "        Dense(128, kernel_regularizer=regularizers.l2(wd), activation=\"relu\"),\n",
        "        Dropout(rate),\n",
        "        Dense(1)\n",
        "    ])\n",
        "    return model"
      ]
    },
    {
      "cell_type": "code",
      "execution_count": 16,
      "metadata": {
        "id": "XqVC2IoaoNXB"
      },
      "outputs": [],
      "source": [
        "# Re-build the model with weight decay and dropout layers\n",
        "model1 = get_regularised_model(.001, .3)\n"
      ]
    },
    {
      "cell_type": "code",
      "execution_count": 17,
      "metadata": {
        "id": "S7hlEQIfoNXB"
      },
      "outputs": [],
      "source": [
        "# Compile the model\n",
        "model1.compile(loss='mse', optimizer='adam', metrics=['mae'])\n"
      ]
    },
    {
      "cell_type": "code",
      "execution_count": 18,
      "metadata": {
        "id": "i0GsO0jooNXB",
        "outputId": "8d3232cd-5bd4-4fd3-c962-b019aca491eb",
        "colab": {
          "base_uri": "https://localhost:8080/"
        }
      },
      "outputs": [
        {
          "output_type": "stream",
          "name": "stdout",
          "text": [
            "Epoch 1/25\n",
            "9/9 - 1s - loss: 1.0048 - mae: 0.5185 - val_loss: 0.6943 - val_mae: 0.2377 - 1s/epoch - 166ms/step\n",
            "Epoch 2/25\n",
            "9/9 - 0s - loss: 0.7045 - mae: 0.3051 - val_loss: 0.5943 - val_mae: 0.2060 - 77ms/epoch - 9ms/step\n",
            "Epoch 3/25\n",
            "9/9 - 0s - loss: 0.6013 - mae: 0.2476 - val_loss: 0.5371 - val_mae: 0.1840 - 77ms/epoch - 9ms/step\n",
            "Epoch 4/25\n",
            "9/9 - 0s - loss: 0.5431 - mae: 0.2318 - val_loss: 0.4844 - val_mae: 0.1895 - 77ms/epoch - 9ms/step\n",
            "Epoch 5/25\n",
            "9/9 - 0s - loss: 0.4852 - mae: 0.2141 - val_loss: 0.4377 - val_mae: 0.1748 - 57ms/epoch - 6ms/step\n",
            "Epoch 6/25\n",
            "9/9 - 0s - loss: 0.4404 - mae: 0.2081 - val_loss: 0.3977 - val_mae: 0.1736 - 55ms/epoch - 6ms/step\n",
            "Epoch 7/25\n",
            "9/9 - 0s - loss: 0.3994 - mae: 0.2029 - val_loss: 0.3633 - val_mae: 0.1737 - 60ms/epoch - 7ms/step\n",
            "Epoch 8/25\n",
            "9/9 - 0s - loss: 0.3704 - mae: 0.2027 - val_loss: 0.3329 - val_mae: 0.1738 - 57ms/epoch - 6ms/step\n",
            "Epoch 9/25\n",
            "9/9 - 0s - loss: 0.3349 - mae: 0.1982 - val_loss: 0.3061 - val_mae: 0.1752 - 58ms/epoch - 6ms/step\n",
            "Epoch 10/25\n",
            "9/9 - 0s - loss: 0.3118 - mae: 0.2080 - val_loss: 0.2825 - val_mae: 0.1719 - 61ms/epoch - 7ms/step\n",
            "Epoch 11/25\n",
            "9/9 - 0s - loss: 0.2833 - mae: 0.1873 - val_loss: 0.2636 - val_mae: 0.1800 - 63ms/epoch - 7ms/step\n",
            "Epoch 12/25\n",
            "9/9 - 0s - loss: 0.2691 - mae: 0.1999 - val_loss: 0.2492 - val_mae: 0.1772 - 63ms/epoch - 7ms/step\n",
            "Epoch 13/25\n",
            "9/9 - 0s - loss: 0.2499 - mae: 0.1986 - val_loss: 0.2320 - val_mae: 0.1877 - 68ms/epoch - 8ms/step\n",
            "Epoch 14/25\n",
            "9/9 - 0s - loss: 0.2307 - mae: 0.1936 - val_loss: 0.2151 - val_mae: 0.1774 - 86ms/epoch - 10ms/step\n",
            "Epoch 15/25\n",
            "9/9 - 0s - loss: 0.2179 - mae: 0.1913 - val_loss: 0.2037 - val_mae: 0.1821 - 69ms/epoch - 8ms/step\n",
            "Epoch 16/25\n",
            "9/9 - 0s - loss: 0.2059 - mae: 0.1906 - val_loss: 0.1908 - val_mae: 0.1777 - 77ms/epoch - 9ms/step\n",
            "Epoch 17/25\n",
            "9/9 - 0s - loss: 0.1900 - mae: 0.1827 - val_loss: 0.1811 - val_mae: 0.1790 - 78ms/epoch - 9ms/step\n",
            "Epoch 18/25\n",
            "9/9 - 0s - loss: 0.1856 - mae: 0.1962 - val_loss: 0.1714 - val_mae: 0.1753 - 63ms/epoch - 7ms/step\n",
            "Epoch 19/25\n",
            "9/9 - 0s - loss: 0.1750 - mae: 0.1927 - val_loss: 0.1634 - val_mae: 0.1753 - 57ms/epoch - 6ms/step\n",
            "Epoch 20/25\n",
            "9/9 - 0s - loss: 0.1648 - mae: 0.1857 - val_loss: 0.1564 - val_mae: 0.1751 - 59ms/epoch - 7ms/step\n",
            "Epoch 21/25\n",
            "9/9 - 0s - loss: 0.1561 - mae: 0.1804 - val_loss: 0.1508 - val_mae: 0.1785 - 74ms/epoch - 8ms/step\n",
            "Epoch 22/25\n",
            "9/9 - 0s - loss: 0.1581 - mae: 0.1957 - val_loss: 0.1436 - val_mae: 0.1767 - 60ms/epoch - 7ms/step\n",
            "Epoch 23/25\n",
            "9/9 - 0s - loss: 0.1492 - mae: 0.1915 - val_loss: 0.1404 - val_mae: 0.1818 - 71ms/epoch - 8ms/step\n",
            "Epoch 24/25\n",
            "9/9 - 0s - loss: 0.1511 - mae: 0.1974 - val_loss: 0.1348 - val_mae: 0.1796 - 58ms/epoch - 6ms/step\n",
            "Epoch 25/25\n",
            "9/9 - 0s - loss: 0.1384 - mae: 0.1897 - val_loss: 0.1297 - val_mae: 0.1744 - 64ms/epoch - 7ms/step\n"
          ]
        }
      ],
      "source": [
        "# Train the model, with some of the data reserved for validation\n",
        "history = model1.fit(x_train, y_train, epochs=25, validation_split=.2, verbose=2)\n"
      ]
    },
    {
      "cell_type": "code",
      "execution_count": 19,
      "metadata": {
        "id": "YeAUGZoVoNXC",
        "outputId": "5a6cec0b-27c5-4bcc-82f3-db0efcbf016b",
        "colab": {
          "base_uri": "https://localhost:8080/"
        }
      },
      "outputs": [
        {
          "output_type": "stream",
          "name": "stdout",
          "text": [
            "3/3 [==============================] - 0s 5ms/step - loss: 0.1263 - mae: 0.1674\n"
          ]
        }
      ],
      "source": [
        "# Evaluate the model on the test set\n",
        "test_loss, test_accuracy = model1.evaluate(x_test, y_test)\n"
      ]
    },
    {
      "cell_type": "markdown",
      "metadata": {
        "id": "LGVI6TftoNXC"
      },
      "source": [
        "#### Plot the learning curves"
      ]
    },
    {
      "cell_type": "code",
      "execution_count": 20,
      "metadata": {
        "id": "6l_ARLAfoNXC",
        "outputId": "7b027651-3927-42b3-f4bb-d5fbb929532a",
        "colab": {
          "base_uri": "https://localhost:8080/",
          "height": 295
        }
      },
      "outputs": [
        {
          "output_type": "display_data",
          "data": {
            "text/plain": [
              "<Figure size 432x288 with 1 Axes>"
            ],
            "image/png": "[encoded data removed]"
          },
          "metadata": {
            "needs_background": "light"
          }
        }
      ],
      "source": [
        "# Plot the training and validation loss\n",
        "\n",
        "import matplotlib.pyplot as plt\n",
        "\n",
        "plt.plot(history.history['loss'])\n",
        "plt.plot(history.history['val_loss'])\n",
        "plt.title('Loss vs. epochs')\n",
        "plt.ylabel('Loss')\n",
        "plt.xlabel('Epoch')\n",
        "plt.legend(['Training', 'Validation'], loc='upper right')\n",
        "plt.show()"
      ]
    },
    {
      "cell_type": "markdown",
      "metadata": {
        "id": "AP6F3ZhVoNXC"
      },
      "source": [
        "***\n",
        "<a id=\"coding_tutorial_3\"></a>\n",
        "## Introduction to callbacks"
      ]
    },
    {
      "cell_type": "markdown",
      "metadata": {
        "id": "zCNKT_61oNXC"
      },
      "source": [
        "#### Example training callback"
      ]
    },
    {
      "cell_type": "code",
      "execution_count": 35,
      "metadata": {
        "id": "W49pcVrUoNXC"
      },
      "outputs": [],
      "source": [
        "# Write a custom callback\n",
        "class mycallback(tf.keras.callbacks.Callback):\n",
        "  def on_epoch_begin(self, epoch, logs):\n",
        "    print(f'Now training epoch: {epoch}')\n"
      ]
    },
    {
      "cell_type": "code",
      "execution_count": null,
      "metadata": {
        "id": "pjc4Xb-woNXC"
      },
      "outputs": [],
      "source": [
        "# Re-build the model\n",
        "\n"
      ]
    },
    {
      "cell_type": "code",
      "execution_count": null,
      "metadata": {
        "id": "ZPq4dHV0oNXC"
      },
      "outputs": [],
      "source": [
        "# Compile the model\n",
        "\n"
      ]
    },
    {
      "cell_type": "markdown",
      "metadata": {
        "id": "CMmIFZeboNXD"
      },
      "source": [
        "#### Train the model with the callback"
      ]
    },
    {
      "cell_type": "code",
      "execution_count": 36,
      "metadata": {
        "id": "hq1TBedXoNXD",
        "outputId": "ed2b4d17-d8f6-4726-a440-b712aab92f2b",
        "colab": {
          "base_uri": "https://localhost:8080/"
        }
      },
      "outputs": [
        {
          "output_type": "stream",
          "name": "stdout",
          "text": [
            "Now training epoch: 0\n",
            "Now training epoch: 1\n",
            "Now training epoch: 2\n",
            "Now training epoch: 3\n",
            "Now training epoch: 4\n",
            "Now training epoch: 5\n",
            "Now training epoch: 6\n",
            "Now training epoch: 7\n",
            "Now training epoch: 8\n",
            "Now training epoch: 9\n",
            "Now training epoch: 10\n",
            "Now training epoch: 11\n",
            "Now training epoch: 12\n",
            "Now training epoch: 13\n",
            "Now training epoch: 14\n",
            "Now training epoch: 15\n",
            "Now training epoch: 16\n",
            "Now training epoch: 17\n",
            "Now training epoch: 18\n",
            "Now training epoch: 19\n"
          ]
        }
      ],
      "source": [
        "# Train the model, with some of the data reserved for validation\n",
        "history = model1.fit(x_train, y_train, epochs=20, verbose=False, callbacks=[mycallback()], validation_split=.2)\n"
      ]
    },
    {
      "cell_type": "code",
      "execution_count": null,
      "metadata": {
        "id": "KbKn4lFCoNXD"
      },
      "outputs": [],
      "source": [
        "# Evaluate the model\n",
        "\n"
      ]
    },
    {
      "cell_type": "code",
      "execution_count": null,
      "metadata": {
        "id": "y9WroU0PoNXD"
      },
      "outputs": [],
      "source": [
        "# Make predictions with the model\n",
        "\n"
      ]
    },
    {
      "cell_type": "markdown",
      "metadata": {
        "id": "vgUmsyqcoNXD"
      },
      "source": [
        "***\n",
        "<a id=\"coding_tutorial_4\"></a>\n",
        "## Early stopping / patience"
      ]
    },
    {
      "cell_type": "markdown",
      "metadata": {
        "id": "Qz6ZejRioNXD"
      },
      "source": [
        "#### Re-train the models with early stopping"
      ]
    },
    {
      "cell_type": "code",
      "execution_count": null,
      "metadata": {
        "id": "CBctvBVPoNXD"
      },
      "outputs": [],
      "source": [
        "# Re-train the unregularised model\n",
        "\n"
      ]
    },
    {
      "cell_type": "code",
      "execution_count": null,
      "metadata": {
        "id": "PWNg8ypHoNXD"
      },
      "outputs": [],
      "source": [
        "# Evaluate the model on the test set\n",
        "\n"
      ]
    },
    {
      "cell_type": "code",
      "execution_count": null,
      "metadata": {
        "id": "51FtldGeoNXE"
      },
      "outputs": [],
      "source": [
        "# Re-train the regularised model\n",
        "\n"
      ]
    },
    {
      "cell_type": "code",
      "execution_count": null,
      "metadata": {
        "id": "ABGzbuWJoNXE"
      },
      "outputs": [],
      "source": [
        "# Evaluate the model on the test set\n",
        "\n"
      ]
    },
    {
      "cell_type": "markdown",
      "metadata": {
        "id": "UoVTPhUtoNXE"
      },
      "source": [
        "#### Plot the learning curves"
      ]
    },
    {
      "cell_type": "code",
      "execution_count": null,
      "metadata": {
        "id": "_wqR0NtyoNXE"
      },
      "outputs": [],
      "source": [
        "# Plot the training and validation loss\n",
        "\n",
        "import matplotlib.pyplot as plt\n",
        "\n",
        "fig = plt.figure(figsize=(12, 5))\n",
        "\n",
        "fig.add_subplot(121)\n",
        "\n",
        "plt.plot(unreg_history.history['loss'])\n",
        "plt.plot(unreg_history.history['val_loss'])\n",
        "plt.title('Unregularised model: loss vs. epochs')\n",
        "plt.ylabel('Loss')\n",
        "plt.xlabel('Epoch')\n",
        "plt.legend(['Training', 'Validation'], loc='upper right')\n",
        "\n",
        "fig.add_subplot(122)\n",
        "\n",
        "plt.plot(reg_history.history['loss'])\n",
        "plt.plot(reg_history.history['val_loss'])\n",
        "plt.title('Regularised model: loss vs. epochs')\n",
        "plt.ylabel('Loss')\n",
        "plt.xlabel('Epoch')\n",
        "plt.legend(['Training', 'Validation'], loc='upper right')\n",
        "\n",
        "plt.show()"
      ]
    }
  ],
  "metadata": {
    "kernelspec": {
      "display_name": "Python 3",
      "language": "python",
      "name": "python3"
    },
    "language_info": {
      "codemirror_mode": {
        "name": "ipython",
        "version": 3
      },
      "file_extension": ".py",
      "mimetype": "text/x-python",
      "name": "python",
      "nbconvert_exporter": "python",
      "pygments_lexer": "ipython3",
      "version": "3.7.1"
    },
    "colab": {
      "provenance": [],
      "include_colab_link": true
    }
  },
  "nbformat": 4,
  "nbformat_minor": 0
}
{
  "cells": [
    {
      "cell_type": "code",
      "metadata": {
        "id": "zX4Kg8DUTKWO"
      },
      "source": [
        "#@title Licensed under the Apache License, Version 2.0 (the \"License\");\n",
        "# you may not use this file except in compliance with the License.\n",
        "# You may obtain a copy of the License at\n",
        "#\n",
        "# https://www.apache.org/licenses/LICENSE-2.0\n",
        "#\n",
        "# Unless required by applicable law or agreed to in writing, software\n",
        "# distributed under the License is distributed on an \"AS IS\" BASIS,\n",
        "# WITHOUT WARRANTIES OR CONDITIONS OF ANY KIND, either express or implied.\n",
        "# See the License for the specific language governing permissions and\n",
        "# limitations under the License."
      ],
      "execution_count": null,
      "outputs": []
    },
    {
      "cell_type": "markdown",
      "metadata": {
        "id": "iQjHqsmTAVLU"
      },
      "source": [
        "## Exercise 3\n",
        "In the videos you looked at how you would improve Fashion MNIST using Convolutions. For your exercise see if you can improve MNIST to 99.8% accuracy or more using only a single convolutional layer and a single MaxPooling 2D. You should stop training once the accuracy goes above this amount. It should happen in less than 20 epochs, so it's ok to hard code the number of epochs for training, but your training must end once it hits the above metric. If it doesn't, then you'll need to redesign your layers.\n",
        "\n",
        "I've started the code for you -- you need to finish it!\n",
        "\n",
        "When 99.8% accuracy has been hit, you should print out the string \"Reached 99.8% accuracy so cancelling training!\"\n"
      ]
    },
    {
      "cell_type": "code",
      "execution_count": 3,
      "metadata": {
        "colab": {
          "base_uri": "https://localhost:8080/"
        },
        "id": "sfQRyaJWAIdg",
        "outputId": "c5ad803c-e2db-4f6a-caa4-cbaf0326b3d8"
      },
      "outputs": [
        {
          "output_type": "stream",
          "name": "stdout",
          "text": [
            "Epoch 1/20\n",
            "1875/1875 [==============================] - 69s 36ms/step - loss: 0.1103 - accuracy: 0.9666\n",
            "Epoch 2/20\n",
            "1875/1875 [==============================] - 68s 36ms/step - loss: 0.0378 - accuracy: 0.9883\n",
            "Epoch 3/20\n",
            "1875/1875 [==============================] - 67s 36ms/step - loss: 0.0261 - accuracy: 0.9916\n",
            "Epoch 4/20\n",
            "1875/1875 [==============================] - 68s 36ms/step - loss: 0.0193 - accuracy: 0.9938\n",
            "Epoch 5/20\n",
            "1875/1875 [==============================] - 68s 36ms/step - loss: 0.0162 - accuracy: 0.9948\n",
            "Epoch 6/20\n",
            "1875/1875 [==============================] - 68s 36ms/step - loss: 0.0116 - accuracy: 0.9960\n",
            "Epoch 7/20\n",
            "1875/1875 [==============================] - 68s 36ms/step - loss: 0.0098 - accuracy: 0.9966\n",
            "Epoch 8/20\n",
            "1875/1875 [==============================] - 68s 36ms/step - loss: 0.0100 - accuracy: 0.9967\n",
            "Epoch 9/20\n",
            "1875/1875 [==============================] - 70s 37ms/step - loss: 0.0092 - accuracy: 0.9970\n",
            "Epoch 10/20\n",
            "1875/1875 [==============================] - 74s 39ms/step - loss: 0.0072 - accuracy: 0.9977\n",
            "Epoch 11/20\n",
            "1875/1875 [==============================] - 70s 37ms/step - loss: 0.0081 - accuracy: 0.9975\n",
            "Epoch 12/20\n",
            "1875/1875 [==============================] - 69s 37ms/step - loss: 0.0085 - accuracy: 0.9975\n",
            "Epoch 13/20\n",
            "1875/1875 [==============================] - ETA: 0s - loss: 0.0056 - accuracy: 0.9984\n",
            "Reached 99.8% accuracy so cancelling training\n",
            "1875/1875 [==============================] - 67s 36ms/step - loss: 0.0056 - accuracy: 0.9984\n"
          ]
        },
        {
          "output_type": "execute_result",
          "data": {
            "text/plain": [
              "<keras.callbacks.History at 0x7f5974fdcfd0>"
            ]
          },
          "metadata": {},
          "execution_count": 3
        }
      ],
      "source": [
        "import tensorflow as tf\n",
        "\n",
        "class myCallback(tf.keras.callbacks.Callback):\n",
        "  def on_epoch_end(self, epoch, logs={}):\n",
        "    if (logs.get('accuracy')>0.998):\n",
        "      print('\\nReached 99.8% accuracy so cancelling training')\n",
        "      self.model.stop_training = True\n",
        "\n",
        "mnist = tf.keras.datasets.mnist\n",
        "(training_images, training_labels), (test_images, test_labels) = mnist.load_data()\n",
        "# data reshaping\n",
        "training_images = training_images.reshape(training_images.shape[0],28,28,1)\n",
        "training_images = training_images/255.0\n",
        "test_images = test_images.reshape(test_images.shape[0], 28, 28, 1)\n",
        "test_images = test_images/255.0\n",
        "# YOUR CODE ENDS HERE\n",
        "\n",
        "model = tf.keras.models.Sequential([\n",
        "    tf.keras.layers.Conv2D(32, (3,3), activation=tf.nn.relu),\n",
        "    tf.keras.layers.MaxPooling2D(2,2),\n",
        "    tf.keras.layers.Conv2D(64, (3,3)),\n",
        "    tf.keras.layers.MaxPooling2D(2,2),\n",
        "    tf.keras.layers.Flatten(),\n",
        "    tf.keras.layers.Dense(512, activation=tf.nn.relu),\n",
        "    tf.keras.layers.Dense(10, activation=tf.nn.softmax)\n",
        "\n",
        "    # YOUR CODE ENDS HERE\n",
        "])\n",
        "model.compile(loss='sparse_categorical_crossentropy', optimizer=tf.keras.optimizers.Adam(), metrics=['accuracy'])\n",
        "callbacks = myCallback()\n",
        "model.fit(training_images, training_labels, epochs=20, callbacks=[callbacks])\n",
        "# YOUR CODE STARTS HERE\n",
        "\n",
        "# YOUR CODE ENDS HERE\n"
      ]
    }
  ],
  "metadata": {
    "colab": {
      "collapsed_sections": [],
      "name": "Exercise 3 - Question.ipynb",
      "provenance": [],
      "toc_visible": true
    },
    "kernelspec": {
      "display_name": "Python 3",
      "name": "python3"
    }
  },
  "nbformat": 4,
  "nbformat_minor": 0
}